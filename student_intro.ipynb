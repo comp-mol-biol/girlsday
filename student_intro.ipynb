{
 "cells": [
  {
   "cell_type": "markdown",
   "metadata": {
    "jp-MarkdownHeadingCollapsed": true
   },
   "source": [
    "## imports"
   ]
  },
  {
   "cell_type": "code",
   "execution_count": null,
   "metadata": {},
   "outputs": [],
   "source": [
    "#data\n",
    "import os\n",
    "from IPython.display import Video\n",
    "import MDAnalysis as mda\n",
    "import nglview as nv\n",
    "from collections import Counter\n",
    "import matplotlib.pyplot as plt\n",
    "import numpy as np\n",
    "from Simulation import *"
   ]
  },
  {
   "cell_type": "markdown",
   "metadata": {
    "jp-MarkdownHeadingCollapsed": true
   },
   "source": [
    "## functions"
   ]
  },
  {
   "cell_type": "code",
   "execution_count": null,
   "metadata": {},
   "outputs": [],
   "source": [
    "def three_to_one(resname):\n",
    "    # Dictionary mapping three-letter codes to one-letter codes\n",
    "    three_to_one_dict = {\n",
    "        'ALA': 'A', 'ARG': 'R', 'ASN': 'N', 'ASP': 'D',\n",
    "        'CYS': 'C', 'GLN': 'Q', 'GLU': 'E', 'GLY': 'G',\n",
    "        'HIS': 'H', 'ILE': 'I', 'LEU': 'L', 'LYS': 'K',\n",
    "        'MET': 'M', 'PHE': 'F', 'PRO': 'P', 'SER': 'S',\n",
    "        'THR': 'T', 'TRP': 'W', 'TYR': 'Y', 'VAL': 'V'\n",
    "    }\n",
    "    one_letter_code = three_to_one_dict.get(resname, 'X')  # 'X' for unknown or non-standard residues\n",
    "\n",
    "    return one_letter_code"
   ]
  },
  {
   "cell_type": "code",
   "execution_count": null,
   "metadata": {},
   "outputs": [],
   "source": [
    "def one_to_three(one_letter):\n",
    "    # Dictionary mapping one-letter codes to three-letter codes\n",
    "    one_to_three_dict = {\n",
    "        'A': 'ALA', 'R': 'ARG', 'N': 'ASN', 'D': 'ASP',\n",
    "        'C': 'CYS', 'Q': 'GLN', 'E': 'GLU', 'G': 'GLY',\n",
    "        'H': 'HIS', 'I': 'ILE', 'L': 'LEU', 'K': 'LYS',\n",
    "        'M': 'MET', 'F': 'PHE', 'P': 'PRO', 'S': 'SER',\n",
    "        'T': 'THR', 'W': 'TRP', 'Y': 'TYR', 'V': 'VAL'\n",
    "    }\n",
    "    \n",
    "    return one_to_three_dict.get(one_letter, 'UNK')"
   ]
  },
  {
   "cell_type": "code",
   "execution_count": null,
   "metadata": {},
   "outputs": [],
   "source": [
    "def plot_letter_histograms(strings, labels):\n",
    "    plt.figure()\n",
    "    filename=\"residue_types_\"+\"\".join(labels)\n",
    "    all_letters = sorted(set(\"\".join(strings)))  # Get all unique letters in alphabetical order\n",
    "    transformed_labels = [one_to_three(letter) for letter in all_letters]\n",
    "    x = np.arange(len(all_letters))  # X positions for bars\n",
    "    width = 0.2  # Width of each bar\n",
    "    \n",
    "    for i, string in enumerate(strings):\n",
    "        letter_counts = Counter(string)\n",
    "        total_letters = sum(letter_counts.values())\n",
    "        densities = [letter_counts.get(letter, 0) / total_letters if total_letters > 0 else 0 for letter in all_letters]\n",
    "        plt.bar(x + i * width, densities, width=width, label=labels[i], alpha=0.7, color=colors[\"lines\"][i+1])\n",
    "\n",
    " \n",
    "\n",
    "    \n",
    "    plt.xticks(x + (len(strings) - 1) * width / 2, transformed_labels,rotation=90)  # Adjust x-axis ticks\n",
    "    plt.xlabel(\"Amino acid type\")\n",
    "    plt.ylabel(\"number fraction\")\n",
    "    #plt.title(\"Letter Frequency Histograms\")\n",
    "    plt.legend()\n",
    "    plt.savefig(filename +'.png')\n",
    "    plt.show()"
   ]
  },
  {
   "cell_type": "code",
   "execution_count": null,
   "metadata": {},
   "outputs": [],
   "source": [
    "#plots\n",
    "plt.rcParams['figure.figsize'] = (20,20)  # Adjust the tuple for the desired figure size\n",
    "plt.rcParams['font.size'] = 25\n",
    "plt.rcParams['axes.labelsize'] = 25\n",
    "plt.rcParams['axes.titlesize'] = 25\n",
    "plt.rcParams['xtick.labelsize'] = 25\n",
    "plt.rcParams['ytick.labelsize'] = 25\n",
    "plt.rcParams['legend.fontsize'] = 20\n",
    "p=0.05 #percentage of values that are labeled\n",
    "file_res=600\n",
    "\n",
    "\n",
    "plt.style.use('tableau-colorblind10')  # Example: 'ggplot', 'seaborn-dark', 'bmh', 'tableau-colorblind10'\n",
    "\n",
    "# Custom color palette (optional)\n",
    "colors = {\n",
    "    \"background\": \"#f5f5f5\",\n",
    "    \"grid\": \"#d3d3d3\",\n",
    "    \"text\": \"#333333\",\n",
    "    \"lines\": [\"#1f77b4\", \"#ff7f0e\", \"#2ca02c\", \"#d62728\", \"#9467bd\"]\n",
    "}\n",
    "\n",
    "# Apply custom colors\n",
    "plt.rcParams['axes.facecolor'] = colors[\"background\"]\n",
    "plt.rcParams['axes.edgecolor'] = colors[\"text\"]\n",
    "plt.rcParams['axes.grid'] = True\n",
    "plt.rcParams['grid.color'] = colors[\"grid\"]\n",
    "plt.rcParams['text.color'] = colors[\"text\"]\n",
    "plt.rcParams['xtick.color'] = colors[\"text\"]\n",
    "plt.rcParams['ytick.color'] = colors[\"text\"]"
   ]
  },
  {
   "cell_type": "markdown",
   "metadata": {
    "jp-MarkdownHeadingCollapsed": true
   },
   "source": [
    "## Willkommen im  STELZL LAB"
   ]
  },
  {
   "cell_type": "code",
   "execution_count": null,
   "metadata": {},
   "outputs": [],
   "source": [
    "#start here\n",
    "from PIL import Image\n",
    "import matplotlib.pyplot as plt\n",
    "\n",
    "# Load the images\n",
    "group1 = Image.open(\"group2.jpeg\")\n",
    "group2 = Image.open(\"group1.jpeg\")\n",
    "\n",
    "# Create subplots\n",
    "fig, axes = plt.subplots(1, 2, figsize=(15, 7))\n",
    "\n",
    "# Display the first image\n",
    "axes[0].imshow(group1)\n",
    "axes[0].axis(\"off\")\n",
    "axes[0].set_title(\"Unsere Forschungsgruppe bei der Arbeit\")\n",
    "\n",
    "# Display the second image\n",
    "axes[1].imshow(group2)\n",
    "axes[1].axis(\"off\")\n",
    "axes[1].set_title(\"Unsere Forschungsgruppe auf dem Weihnachtsmarkt\")\n",
    "\n",
    "# Show the images\n",
    "plt.show()"
   ]
  },
  {
   "cell_type": "markdown",
   "metadata": {},
   "source": [
    "## Wir sind eine Computational Biophysics Arbeitsgruppe - wir modelieren und simulieren proteine mit  Hilfe von High performance computing und Molekular Dynamik Simulationen and Machine Learning."
   ]
  },
  {
   "cell_type": "markdown",
   "metadata": {
    "jp-MarkdownHeadingCollapsed": true
   },
   "source": [
    "## Hands-on"
   ]
  },
  {
   "cell_type": "markdown",
   "metadata": {},
   "source": [
    "### Was ist ein Protein (Eiweiß)?"
   ]
  },
  {
   "cell_type": "code",
   "execution_count": null,
   "metadata": {},
   "outputs": [],
   "source": [
    "from PIL import Image\n",
    "import matplotlib.pyplot as plt\n",
    "\n",
    "# Load the images\n",
    "muscle = Image.open(\"arm-muscle-biceps-skeleton-muscle-tension-human-hand-white-background-bones-joints-male-silhouette-medical-354517032.jpg\")\n",
    "protein_content = Image.open(\"nutrition_de_yogurt.jpg\")\n",
    "\n",
    "# Create subplots\n",
    "fig, axes = plt.subplots(1, 2, figsize=(15, 7))\n",
    "\n",
    "# Display the first image\n",
    "axes[0].imshow(protein_content)\n",
    "axes[0].axis(\"off\")\n",
    "axes[0].set_title(\"Unser Essen enhält Protein al einen \\n wichtigen Bestandteil\")\n",
    "\n",
    "# Display the second image\n",
    "axes[1].imshow(muscle)\n",
    "axes[1].axis(\"off\")\n",
    "axes[1].set_title(\"Unser Körper nutzt Proteine \\n um Muskeln zu bilden und zu versorgen.\")\n",
    "\n",
    "# Show the images\n",
    "plt.show()\n"
   ]
  },
  {
   "cell_type": "markdown",
   "metadata": {},
   "source": [
    "### Woraus besteht ein Protein?"
   ]
  },
  {
   "cell_type": "code",
   "execution_count": null,
   "metadata": {},
   "outputs": [],
   "source": [
    "# Load the images\n",
    "protein_structure1 = Image.open(\"levels-of-protein-structure-1.jpg\")\n",
    "protein_structure2 = Image.open(\"sticks_surface_ray-5_highres.webp\")\n",
    "\n",
    "# Create subplots\n",
    "fig, axes = plt.subplots(1, 2, figsize=(12, 5))\n",
    "\n",
    "# Display the first image\n",
    "axes[0].imshow(protein_structure1)\n",
    "axes[0].axis(\"off\")\n",
    "axes[0].set_title(\"Proteine besten aus \\n Aminosäuren\")\n",
    "\n",
    "# Display the second image\n",
    "axes[1].imshow(protein_structure2)\n",
    "axes[1].axis(\"off\")\n",
    "axes[1].set_title(\"So sieht ein Protein aus (als Molekül)\")\n",
    "\n",
    "# Show the images\n",
    "plt.show()"
   ]
  },
  {
   "cell_type": "markdown",
   "metadata": {},
   "source": [
    "### Was sind Amino Säuren?"
   ]
  },
  {
   "cell_type": "code",
   "execution_count": null,
   "metadata": {},
   "outputs": [],
   "source": [
    "# Load the image\n",
    "amino_acids = Image.open(\"Basic_Protein_Structure.png\")\n",
    "\n",
    "# Create a single plot\n",
    "fig, ax = plt.subplots(figsize=(15, 10))\n",
    "\n",
    "# Display the image\n",
    "ax.imshow(amino_acids)\n",
    "ax.axis(\"off\")\n",
    "ax.set_title(\"Atome (C, H, O, N) binden zusammen Amino Säuren, \\n Amino Säuren binden zusammen Proteine\")\n",
    "\n",
    "# Show the image\n",
    "plt.show()"
   ]
  },
  {
   "cell_type": "markdown",
   "metadata": {
    "id": "uzIdylKRMJXP",
    "jp-MarkdownHeadingCollapsed": true
   },
   "source": [
    "## Lass uns zusammen Protein Sequencen und Strukturen entdecken!"
   ]
  },
  {
   "cell_type": "markdown",
   "metadata": {},
   "source": [
    "Jedes Protein besteht aus einer bestimmten Reihenfolge von Aminosäuren – so wie Perlen an einer Kette. Man kann diese Reihenfolge mit Buchstaben aufschreiben, wobei jeder Buchstabe für eine bestimmte Aminosäure steht.\n",
    "\n",
    "Im Labor kann man solche Reihenfolgen herausfinden, zum Beispiel mit fluoreszierenden Markierungen.\n",
    "\n",
    "Für uns als Wissenschaftler am Computer ist diese Buchstabenreihe der Anfangspunkt. Zu diesem Zeitpunkt wissen wir noch nicht, wie das Protein aussieht."
   ]
  },
  {
   "cell_type": "code",
   "execution_count": null,
   "metadata": {
    "colab": {
     "base_uri": "https://localhost:8080/",
     "height": 70
    },
    "id": "bEJqNTjzxoKW",
    "outputId": "23cb3419-fc44-4136-bdf4-949ea19369d7"
   },
   "outputs": [],
   "source": [
    "top='PEI1_07d79.pdb'\n",
    "name='PEI-1'\n",
    "u_PEI1=mda.Universe(top)\n",
    "ca_PEI1=u_PEI1.atoms.intersection(u_PEI1.select_atoms('name CA'))\n",
    "l=[three_to_one(item) for item in u_PEI1.residues.resnames]\n",
    "PEI1_sequ=''.join(l)\n",
    "PEI1_sequ"
   ]
  },
  {
   "cell_type": "markdown",
   "metadata": {
    "id": "uIMZCp1bLiiZ"
   },
   "source": [
    "Um zu verstehen, wie ein Protein aussieht, müssen wir herausfinden, wie es sich zusammenfaltet.\n",
    "\n",
    "Das wurde lange mit besonderen Experimenten erforscht, zum Beispiel mit Röntgenstrahlen oder sehr starken Mikroskopen (wie Kryo-Elektronenmikroskopie).\n",
    "\n",
    "Heute kann man dafür auch ein Computerprogramm namens AlphaFold benutzen. Es wurde mit vielen bekannten Daten trainiert und kann jetzt vorhersagen, wie ein Protein gefaltet ist."
   ]
  },
  {
   "cell_type": "markdown",
   "metadata": {
    "jp-MarkdownHeadingCollapsed": true
   },
   "source": [
    "## Task: ein Protein falten\n",
    "https://colab.research.google.com/github/sokrypton/ColabFold/blob/main/AlphaFold2.ipynb"
   ]
  },
  {
   "cell_type": "markdown",
   "metadata": {
    "jp-MarkdownHeadingCollapsed": true
   },
   "source": [
    "## Task: eine Struktur erforschen:"
   ]
  },
  {
   "cell_type": "markdown",
   "metadata": {},
   "source": [
    "Open the structure full screen, you can turn and move it around with your mouse. "
   ]
  },
  {
   "cell_type": "code",
   "execution_count": null,
   "metadata": {
    "id": "0kybOKDU3w_q"
   },
   "outputs": [],
   "source": [
    "#vizualize PEI1\n",
    "view_PEI1= nv.show_mdanalysis(u_PEI1, default_representation=False) #structure\n",
    "view_PEI1.add_cartoon(u_PEI1.residues, color=\"lightblue\",opacity=0.5,depthWrite=True)\n",
    "view_PEI1.center()\n",
    "view_PEI1"
   ]
  },
  {
   "cell_type": "markdown",
   "metadata": {
    "id": "j1ScviBgTx53"
   },
   "source": [
    "Support for third party widgets will remain active for the duration of the session. To disable support:"
   ]
  },
  {
   "cell_type": "markdown",
   "metadata": {
    "id": "BqoSQUyL4quN"
   },
   "source": [
    "### Frage: Wie viele Helices (Spiralen) kannst du finden?"
   ]
  },
  {
   "cell_type": "markdown",
   "metadata": {
    "id": "c1r7AFYyxq6c"
   },
   "source": [
    "Mach die Struktur auf dem Bildschirm ganz groß und schau sie dir genau an. Schreib deine Antwort dann hier auf."
   ]
  },
  {
   "cell_type": "markdown",
   "metadata": {},
   "source": [
    "### Frage: Welche Amino Säuren sind in unserem Protein?"
   ]
  },
  {
   "cell_type": "code",
   "execution_count": null,
   "metadata": {},
   "outputs": [],
   "source": [
    "view_PEI1_2= nv.show_mdanalysis(u_PEI1, default_representation=False) #structure\n",
    "view_PEI1_2.add_cartoon(u_PEI1.residues, color=\"resname\",opacity=0.5,depthWrite=True)\n",
    "view_PEI1_2.center()\n",
    "view_PEI1_2"
   ]
  },
  {
   "cell_type": "markdown",
   "metadata": {},
   "source": [
    "### Frage: Welche Amino Säuren sind grau, in grün und gelb? "
   ]
  },
  {
   "cell_type": "markdown",
   "metadata": {},
   "source": [
    "Schreibe deine Antwort hier: "
   ]
  },
  {
   "cell_type": "markdown",
   "metadata": {},
   "source": [
    "### Frage: Was ist der Name der häufigsten Amino Säure?"
   ]
  },
  {
   "cell_type": "markdown",
   "metadata": {},
   "source": [
    "Du kannst die Funktion benutzen:"
   ]
  },
  {
   "cell_type": "code",
   "execution_count": null,
   "metadata": {},
   "outputs": [],
   "source": [
    "strings = [PEI1_sequ]\n",
    "labels = [\"PEI1\"]"
   ]
  },
  {
   "cell_type": "code",
   "execution_count": null,
   "metadata": {},
   "outputs": [],
   "source": [
    "plot_letter_histograms(strings,labels) "
   ]
  },
  {
   "cell_type": "markdown",
   "metadata": {},
   "source": [
    "Schreibe deine Antwort hier:"
   ]
  },
  {
   "cell_type": "markdown",
   "metadata": {
    "jp-MarkdownHeadingCollapsed": true
   },
   "source": [
    "## Task: Wie sehen die unterschiedlichen Amino Säure aus?"
   ]
  },
  {
   "cell_type": "code",
   "execution_count": null,
   "metadata": {},
   "outputs": [],
   "source": [
    "tyrosines = u_PEI1.select_atoms(\"resname TYR\")\n",
    "argenines = u_PEI1.select_atoms(\"resname ARG\")\n",
    "#serines = u_PEI1.select_atoms(\"resname []\")\n",
    "#please find all serines (SER)\n",
    "#[]"
   ]
  },
  {
   "cell_type": "code",
   "execution_count": null,
   "metadata": {},
   "outputs": [],
   "source": [
    "view_PEI1_2= nv.show_mdanalysis(u_PEI1, default_representation=False) #structure\n",
    "view_PEI1_2.add_ball_and_stick(u_PEI1.residues, color=\"resname\",opacity=0.5,depthWrite=True)\n",
    "view_PEI1_2.add_surface(tyrosines.residues, color=\"blue\",opacity=0.5,depthWrite=True)\n",
    "view_PEI1_2.add_surface(argenines.residues, color=\"orange\",opacity=0.5,depthWrite=True)\n",
    "view_PEI1_2.add_surface(serines.residues, color=\"red\",opacity=0.5,depthWrite=True)\n",
    "\n",
    "#please color all serines (SER) red\n",
    "#[]\n",
    "view_PEI1_2.center()\n",
    "view_PEI1_2"
   ]
  },
  {
   "cell_type": "markdown",
   "metadata": {},
   "source": [
    "### Frage: Was siehst du wenn du einzoomst? Wie unterscheinden sich Tyrosines und Argenines in ihrer Struktur? "
   ]
  },
  {
   "cell_type": "markdown",
   "metadata": {},
   "source": [
    " Schreibe deine Antwort hier:"
   ]
  },
  {
   "cell_type": "markdown",
   "metadata": {},
   "source": [
    "### Erinnerung: Ist die AlphaFold Struktur fertig?"
   ]
  },
  {
   "cell_type": "markdown",
   "metadata": {
    "jp-MarkdownHeadingCollapsed": true
   },
   "source": [
    "## Task: Starte deine eigene Simulation!"
   ]
  },
  {
   "cell_type": "markdown",
   "metadata": {
    "jp-MarkdownHeadingCollapsed": true
   },
   "source": [
    "### **Starte deine eigene Simulation!**\n",
    "\n",
    "### Proteine zur Auswahl:\n",
    "- Vreteno_L1S2\n",
    "- Vreteno_L1S3\n",
    "- Vreteno_L2S1\n",
    "- Vreteno_L4\n",
    "- Vreteno_S2\n",
    "- Vreteno_S3\n",
    "- Vreteno_S4\n",
    "\n",
    "---\n",
    "\n",
    "### GROMACS:\n",
    "GROMACS ist eine Software zur Simulation von Proteinen. Heute nutzen wir sie, um unsere eigene Simulation durchzuführen. Dabei simulieren wir, wie sich ein Protein unter bestimmten Bedingungen verhält.\n",
    "\n",
    "---\n",
    "\n",
    "### Ablauf:\n",
    "Der Ablauf einer Simulation in GROMACS folgt einem bestimmten \"Rezept\", das aus mehreren Schritten besteht:\n",
    "\n",
    "1. **Dateiformat anpassen (`pdb_to_gro`)**:\n",
    "   - Die meisten Proteinstrukturen sind als `.pdb`-Dateien gespeichert. GROMACS arbeitet jedoch mit `.gro`-Dateien.\n",
    "   - Daher wandeln wir das Proteinformat um, sodass es in GROMACS verwendet werden kann.\n",
    "\n",
    "2. **Box definieren (`define_box`)**:\n",
    "   - Da wir das Protein simulieren, benötigen wir einen Bereich, in dem es sich bewegen kann.\n",
    "   - Diese \"Box\" stellt den Raum dar, in dem unser Protein existiert. Sie hat periodische Randbedingungen (PBC = Periodic Boundary Condition), was bedeutet, dass das Protein nicht einfach gegen eine Wand stößt, sondern sich wie in einer unendlichen Umgebung verhält.\n",
    "\n",
    "3. **Solvatisierung (`solvate`)**:\n",
    "   - Proteine existieren in biologischen Systemen oft in Wasser.\n",
    "   - Wir fügen Wasser in unsere Box hinzu, damit sich das Protein natürlich bewegen kann.\n",
    "   - Zudem werden Konterionen hinzugefügt, um das System elektrisch neutral zu halten.\n",
    "\n",
    "4. **Equilibrierung (`equilibration`)**:\n",
    "   - In diesem Schritt bringen wir unser System auf eine bestimmte Temperatur und einen bestimmten Druck.\n",
    "   - Das simuliert die realen Bedingungen, unter denen das Protein funktioniert.\n",
    "   - Dieser Schritt stellt sicher, dass sich unser Protein natürlich verhält, bevor wir die eigentliche Simulation starten.\n",
    "\n",
    "5. **Produktionslauf (`production_md`)**:\n",
    "   - Jetzt beginnt die eigentliche Molekulardynamik-Simulation (MD-Simulation).\n",
    "   - Das Protein bewegt sich unter realistischen Bedingungen, und wir beobachten seine Struktur und Verhaltensweisen.\n",
    "   - Unsere Simulation dauert 100 Nanosekunden (1 ns = 0,000000001 s). Auch wenn das sehr kurz erscheint, reicht es, um viele wichtige Prozesse auf atomarer Ebene zu analysieren.\n",
    "\n",
    "\n",
    "### Befehle:\n",
    "Wir verwenden einen sogenannten **SimulationManager**, um die Simulation durchzuführen.\n",
    "\n",
    "Diesem übergeben wir den Namen unseres Proteins:\n",
    "  ```python\n",
    "  SimulationManager(\"Mein Protein\")\n",
    "  ```\n",
    "Da wir dieses Objekt mehrfach nutzen wollen, speichern wir es in einer Variablen:\n",
    "  ```python\n",
    "  sim = SimulationManager(\"Mein Protein\")\n",
    "  ```\n",
    "Ab jetzt können wir jeden Simulationsschritt auf **\"sim\"** ausführen.\n",
    "Dafür nutzen wir die `execute_step()`-Funktion, die folgende Schritte ausführen kann:\n",
    "  - `pdb_to_gro`\n",
    "  - `define_box`\n",
    "  - `solvate`\n",
    "  - `equilibration`\n",
    "  - `production_md`\n",
    "\n",
    "Diese Befehle werden als Strings (also mit `\"\"`) übergeben:\n",
    "  ```python\n",
    "  sim.execute_step(\"pdb_to_gro\")\n",
    "  ```\n",
    "  Führt man diesen Befehl aus, wird nach kurzer Zeit das Protein sichtbar.\n",
    "\n",
    "Um den aktuellen Fortschritt der Simulation zu sehen, kann man folgendes nutzen:\n",
    "  ```python\n",
    "  sim.show_progress()\n",
    "  ```\n",
    "#### Und jetzt seid ihr dran! Sucht euch eins der Proteine aus und geht die Schritte durch. \n",
    "\n",
    "## WICHTIG: Wartet am besten immer bevor euer Protein angezeigt wird bevor ihr den nächsten Schritt macht! Sonst kann es sein, dass unser Programm einfriert \n"
   ]
  },
  {
   "cell_type": "markdown",
   "metadata": {},
   "source": [
    "## Task: Starte deine Simulation"
   ]
  },
  {
   "cell_type": "code",
   "execution_count": null,
   "metadata": {},
   "outputs": [],
   "source": [
    "sim = SimulationManager(\"Vreteno_S2\")"
   ]
  },
  {
   "cell_type": "code",
   "execution_count": null,
   "metadata": {},
   "outputs": [],
   "source": [
    "sim.execute_step(\"production_md\")"
   ]
  },
  {
   "cell_type": "markdown",
   "metadata": {
    "jp-MarkdownHeadingCollapsed": true
   },
   "source": [
    "## Task: Schau dir eine Simulation aus unserer Gruppe an"
   ]
  },
  {
   "cell_type": "code",
   "execution_count": null,
   "metadata": {},
   "outputs": [],
   "source": [
    "Video(\"Rde2_recruitment.mp4\",width=800)"
   ]
  },
  {
   "cell_type": "markdown",
   "metadata": {},
   "source": [
    "### Wir untersuchen wie sich Kondensate bilden und wie andere Proteine in das Kondensat aufgenommen werden."
   ]
  },
  {
   "cell_type": "markdown",
   "metadata": {},
   "source": [
    "Achte darauf: Die großen Proteinketten (in Grau gezeigt) kommen zusammen und bilden ein Kondensat – ähnlich wie ein Öltropfen im Wasser. Das kleinere Protein (in Orange gezeigt) wird mit der Zeit in dieses große Kondensat aufgenommen."
   ]
  }
 ],
 "metadata": {
  "colab": {
   "provenance": []
  },
  "kernelspec": {
   "display_name": "Python 3 (ipykernel)",
   "language": "python",
   "name": "python3"
  },
  "language_info": {
   "codemirror_mode": {
    "name": "ipython",
    "version": 3
   },
   "file_extension": ".py",
   "mimetype": "text/x-python",
   "name": "python",
   "nbconvert_exporter": "python",
   "pygments_lexer": "ipython3",
   "version": "3.10.12"
  },
  "widgets": {
   "application/vnd.jupyter.widget-state+json": {
    "3f51e2a915334c679f5d326f653806f2": {
     "model_module": "nglview-js-widgets",
     "model_module_version": "3.1.4",
     "model_name": "ColormakerRegistryModel",
     "state": {
      "_dom_classes": [],
      "_model_module": "nglview-js-widgets",
      "_model_module_version": "3.1.4",
      "_model_name": "ColormakerRegistryModel",
      "_msg_ar": [],
      "_msg_q": [],
      "_ready": false,
      "_view_count": null,
      "_view_module": "nglview-js-widgets",
      "_view_module_version": "3.1.4",
      "_view_name": "ColormakerRegistryView",
      "layout": "IPY_MODEL_60144bdd406347c98652dce0f14531c3",
      "tabbable": null,
      "tooltip": null
     }
    }
   }
  }
 },
 "nbformat": 4,
 "nbformat_minor": 4
}
